{
 "cells": [
  {
   "cell_type": "markdown",
   "metadata": {},
   "source": [
    "<img src=\"Notebook_images/Ravivarma1.png\">\n",
    "Raja Ravi Varma [https://en.wikipedia.org/wiki/Raja_Ravi_Varma] is one of the most celebrated and divisive figures in late 19th century / early 20th century Indian art.\n",
    "\n",
    "On one front, he is praised as the first *artist of the masses* known for his pioneering efforts in marrying Indian artistic vibes and mythology with European techniques. The grand doyen of Indian literarture, Rabindranath Tagore, said these words about Ravi Varma:\n",
    "<img src=\"Notebook_images/tagore.png\">\n",
    "His paintings and lithographs are a commonplace through the length and breadth of India.\n",
    "Some of the most popular examples of his art are as shown in the collage below. (Sourced from https://commons.wikimedia.org/wiki/Raja_Ravi_Varma)\n",
    "<img src=\"Notebook_images/Ravivarma_collage.png\">\n",
    "On the other hand, the palpably naive flavor of realism espoused in his works are widely  seen amongst critics as being derivative, bland and too inspired by Western academic constructs for one's liking. To a savant of the stature of Aurobindo, he was 'the grand debaser of Indian taste and artistic culture'. (Source:https://www.aurobindo.ru/workings/sa/37_01/0102_e.htm)\n",
    "\n",
    "As a response to his growing clout, The Bengal School of Art (https://en.wikipedia.org/wiki/Bengal_School_of_Art) emerged as the avant garde nationalistic art-movement that sought to develop a more homegrown hue of art that was philosophically and artistically distinct from the European academic art.\n",
    "It was via this movement that Abanindranath Tagore,<img src=\"Notebook_images/A_tagore.jpg\"> (who also happened to be the nephew of Rabindranath Tagore), emerged as a leading figure. Combining the home-grown Moghul and Rajput styles with orientalist sensibilities, he ushered in a sea change in the style of depictions of the human and divine subjects derived out Indian bodies of literature.\n",
    "Some of the most enduring examples of his art-form are depicted in this collage below;\n",
    "(Sourced from https://www.wikiart.org/en/abanindranath-tagore):\n",
    "<img src=\"Notebook_images/A_Tagore_collage.png\"> \n"
   ]
  },
  {
   "cell_type": "markdown",
   "metadata": {},
   "source": [
    "In this work, I aspire to harness the fast, arbitrary artistic neural style transfer technique of [1], to sample images from Raja Ravi Varma's body of work and *transfer* it to the avant garde Bengal school of art style captured in Abanindranath Tagore's paintings.\n",
    "I used the open-sourced implementation of [1] that is part of the 'Magenta' project available at [2].\n",
    "\n",
    "## References:\n",
    "\n",
    "[1] https://arxiv.org/pdf/1705.06830.pdf\n",
    "\n",
    "\n",
    "[2] https://github.com/tensorflow/magenta/tree/master/magenta/models/arbitrary_image_stylization"
   ]
  },
  {
   "cell_type": "markdown",
   "metadata": {},
   "source": [
    "# Step-1 : Resizing and squarization of images:"
   ]
  },
  {
   "cell_type": "code",
   "execution_count": 1,
   "metadata": {
    "collapsed": true
   },
   "outputs": [],
   "source": [
    "from PIL import Image\n",
    "from resizeimage import resizeimage\n",
    "import os\n",
    "from PIL import ImageFile\n",
    "ImageFile.LOAD_TRUNCATED_IMAGES = True \n",
    "# Crucial for large images:\n",
    "# Source: https://stackoverflow.com/questions/12984426/python-pil-ioerror-image-file-truncated-with-big-images"
   ]
  },
  {
   "cell_type": "code",
   "execution_count": 2,
   "metadata": {
    "collapsed": true
   },
   "outputs": [],
   "source": [
    "# Option: -1:\n",
    "# def resize_image(rv_folder,file_name,n_pixels=256):\n",
    "#     with open(os.path.join(rv_folder,file_name), 'r+b') as f:\n",
    "#         with Image.open(f) as image:\n",
    "#             cover = resizeimage.resize_contain(image, [n_pixels, n_pixels])\n",
    "#             cover.save(os.path.join(rv_folder,str(n_pixels)+'_'+file_name), image.format)\n",
    "from PIL import Image\n",
    "\n",
    "def image_resize(file_in,n_pixels,dir_in):\n",
    "    file_path=os.path.join(os.getcwd(),dir_in,file_in)\n",
    "    im = Image.open(file_path)\n",
    "    im_resized=im.resize((n_pixels,n_pixels),Image.LANCZOS)\n",
    "    file_out=file_in.strip('.jpg')+ '_'+str(n_pixels)+'.jpg'\n",
    "    dir_out=dir_in+'_'+str(n_pixels)\n",
    "    file_out_path=os.path.join(os.getcwd(),dir_out,file_out)\n",
    "    im_resized.save(file_out_path, \"JPEG\")"
   ]
  },
  {
   "cell_type": "markdown",
   "metadata": {},
   "source": [
    "# Source Images:"
   ]
  },
  {
   "cell_type": "code",
   "execution_count": 3,
   "metadata": {},
   "outputs": [
    {
     "data": {
      "text/plain": [
       "['Raja_Ravi_Varma,_Expectation.jpg',\n",
       " 'Raja_Ravi_Varma,_Kadambari.jpg',\n",
       " 'Raja_Ravi_Varma,_Ladies_in_the_moonlight.jpg',\n",
       " 'Raja_Ravi_Varma,_Malabar_Lady.jpg',\n",
       " 'Raja_Ravi_Varma,_Nair_Lady_Adorning_Her_Hair.jpg',\n",
       " 'Raja_Ravi_Varma,_Saraswati_1896.jpg',\n",
       " 'Raja_Ravi_Varma,_The_suckling_child.jpg',\n",
       " 'Raja_Ravi_Varma,_Woman_with_veena.jpg']"
      ]
     },
     "execution_count": 3,
     "metadata": {},
     "output_type": "execute_result"
    }
   ],
   "source": [
    "rv_folder=os.path.join(os.getcwd(),'RRV')\n",
    "RV_image_list=os.listdir(rv_folder)\n",
    "RV_image_list"
   ]
  },
  {
   "cell_type": "markdown",
   "metadata": {},
   "source": [
    "# Style images:"
   ]
  },
  {
   "cell_type": "code",
   "execution_count": 4,
   "metadata": {},
   "outputs": [
    {
     "data": {
      "text/plain": [
       "['Abanindranath_Tagore_-Ganesh_Janani.jpg',\n",
       " 'Abanindranath_Tagore_-_ Bharat Mata_1905.jpg',\n",
       " 'Abanindranath_Tagore_-_Journeys_End_-_Google_Art_Project.jpg',\n",
       " 'Abanindranath_Tagore_-_My_Mother_-_Google_Art_Project.jpg']"
      ]
     },
     "execution_count": 4,
     "metadata": {},
     "output_type": "execute_result"
    }
   ],
   "source": [
    "at_folder=os.path.join(os.getcwd(),'AT')\n",
    "AT_image_list=os.listdir(at_folder)\n",
    "AT_image_list"
   ]
  },
  {
   "cell_type": "code",
   "execution_count": 5,
   "metadata": {},
   "outputs": [],
   "source": [
    "for img_file in AT_image_list:\n",
    "    image_resize(img_file,n_pixels=512,dir_in='AT')\n",
    "for img_file in RV_image_list:\n",
    "    image_resize(img_file,n_pixels=512,dir_in='RRV')"
   ]
  },
  {
   "cell_type": "markdown",
   "metadata": {},
   "source": [
    "```\n",
    "1: bash\n",
    "2: Source activate magentapython\n",
    "3:\n",
    "python arbitrary_image_stylization_with_weights.py \\\n",
    "  --checkpoint=./arbitrary_style_transfer/model.ckpt \\\n",
    "  --output_dir=output_imgs \\\n",
    "  --style_images_paths=images/style_images/*.jpg \\\n",
    "  --content_images_paths=images/content_images/*.jpg \\\n",
    "  --image_size=512 \\\n",
    "  --content_square_crop=True \\\n",
    "  --style_image_size=512 \\\n",
    "  --style_square_crop=True \\\n",
    "  --logtostderr\n",
    "```"
   ]
  },
  {
   "cell_type": "markdown",
   "metadata": {},
   "source": [
    "The output images are in the 'output_imgs' folder:\n",
    "```\n",
    "output_image_list=os.listdir(os.path.join(os.getcwd(),'output_imgs'))\n",
    "gif_dir=os.path.join(os.getcwd(),'gif')\n",
    "\n",
    "###  Script for generating the gif:\n",
    "import imageio\n",
    "with imageio.get_writer(gif_dir, mode='V') as writer:\n",
    "    for filename in output_image_list:\n",
    "        file_loc=os.path.join(os.getcwd(),'output_imgs',filename)\n",
    "        image = imageio.imread(file_loc)\n",
    "        writer.append_data(image)\n",
    "```"
   ]
  },
  {
   "cell_type": "markdown",
   "metadata": {},
   "source": [
    "# Highlights:\n",
    "\n",
    "## 1: Transfer of style in Motherhood."
   ]
  },
  {
   "cell_type": "markdown",
   "metadata": {},
   "source": [
    "2 of the iconic images that resulted from the artists co-exploring the exalted theme of motherhood were:\n",
    "- *The suckling child* by Raja Ravi Varma\n",
    "<img src=\"RRV/Raja_Ravi_Varma,_The_suckling_child.jpg\"> \n",
    "- *Ganesh Janani* by  Abanindranath Tagore\n",
    "<img src=\"AT/Abanindranath_Tagore_-Ganesh_Janani.jpg\">\n",
    "Using [2], the image I got that I felt aptly amalgamated the artistic sensibilities of the 2 colossal figures being explored in this experiment was:\n",
    "<img src=\"output_imgs/Raja_Ravi_Varma,_The_suckling_child_512_stylized_Abanindranath_Tagore_-Ganesh_Janani_512_0.jpg\"> \n",
    "One startling aspect of this style transfer was the emergence of the variation in the eyes of the child:\n",
    "<img src=\"output_imgs/child_eyes.png\"> "
   ]
  },
  {
   "cell_type": "markdown",
   "metadata": {},
   "source": [
    "## 2: Transfer of style in Feminine representation of divinity/nationhood:\n",
    "Again as with highlight-1 above, we sample 2 of the iconic images that resulted from the artists co-exploring feminine representation of divinity/nationhood.\n",
    "\n",
    "- *Saraswati*  (circa 1896) by Raja Ravi Varma\n",
    "<img src=\"RRV/Raja_Ravi_Varma,_Saraswati_1896.jpg\"> \n",
    "- *Bharat Mata* by  Abanindranath Tagore\n",
    "<img src=\"output_imgs/Abanindranath_Tagore_-_ Bharat Mata_1905_512.jpg\">\n",
    "Again, using [2], the image I got was:\n",
    "<img src=\"output_imgs/Raja_Ravi_Varma,_Saraswati_1896_512_stylized_Abanindranath_Tagore_-_ Bharat Mata_1905_512_0.jpg\"> \n"
   ]
  },
  {
   "cell_type": "markdown",
   "metadata": {},
   "source": [
    "# Art animation showcasing avant-garding of all of Raja Ravi Varma's images using A.Tagore's style:"
   ]
  },
  {
   "cell_type": "code",
   "execution_count": 6,
   "metadata": {},
   "outputs": [
    {
     "data": {
      "text/html": [
       "\n",
       "<video width=\"320\" height=\"240\" controls>\n",
       "  <source src=\"gif/combined.mp4\" type=\"video/mp4\">\n",
       "</video>\n"
      ],
      "text/plain": [
       "<IPython.core.display.HTML object>"
      ]
     },
     "execution_count": 6,
     "metadata": {},
     "output_type": "execute_result"
    }
   ],
   "source": [
    "from IPython.display import HTML\n",
    "\n",
    "HTML(\"\"\"\n",
    "<video width=\"320\" height=\"240\" controls>\n",
    "  <source src=\"gif/combined.mp4\" type=\"video/mp4\">\n",
    "</video>\n",
    "\"\"\")"
   ]
  }
 ],
 "metadata": {
  "kernelspec": {
   "display_name": "Python 3",
   "language": "python",
   "name": "python3"
  },
  "language_info": {
   "codemirror_mode": {
    "name": "ipython",
    "version": 3
   },
   "file_extension": ".py",
   "mimetype": "text/x-python",
   "name": "python",
   "nbconvert_exporter": "python",
   "pygments_lexer": "ipython3",
   "version": "3.6.1"
  }
 },
 "nbformat": 4,
 "nbformat_minor": 2
}
